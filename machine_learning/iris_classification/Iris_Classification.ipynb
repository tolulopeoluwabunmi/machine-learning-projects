{
 "cells": [
  {
   "cell_type": "markdown",
   "id": "41c5bf7d-a120-4bb3-bfcf-6712bf2c5e51",
   "metadata": {},
   "source": [
    "# Iris Classification - Exercise 1\r\n",
    "\r\n",
    "**Goal:** predict `Species` from four numeric features (SepalLength/Width, PetalLength/Width).  \r\n",
    "**Plan:** load → EDA → split (60/40, stratified)  **scale on train only**  train **KNN**, **GaussianNB**, **Logistic Regression**  evaluate on same test set for a fair comparison.  \r\n",
    "**Note:** scaling is fit on **train only** to avoid leakage; same split used for all models.\r\n"
   ]
  },
  {
   "cell_type": "code",
   "execution_count": 125,
   "id": "380f54d6-a2bf-4dd0-8665-4f488261674a",
   "metadata": {},
   "outputs": [],
   "source": [
    "import matplotlib.pylab as plt\n",
    "import pandas as pd\n",
    "\n",
    "from sklearn.preprocessing import StandardScaler\n",
    "from sklearn.model_selection import train_test_split\n",
    "from sklearn.neighbors import NearestNeighbors, KNeighborsClassifier\n",
    "from sklearn.naive_bayes import GaussianNB\n",
    "from sklearn.metrics import accuracy_score, confusion_matrix, classification_report\n",
    "from sklearn.linear_model import LogisticRegression\n",
    "\n"
   ]
  },
  {
   "cell_type": "code",
   "execution_count": 126,
   "id": "d6f4b763-1351-46ce-a258-5aaa3039830d",
   "metadata": {},
   "outputs": [],
   "source": [
    "import warnings\n",
    "warnings.filterwarnings('ignore')"
   ]
  },
  {
   "cell_type": "markdown",
   "id": "8f3994a9-971e-4cc2-bb66-745bd4b3b967",
   "metadata": {},
   "source": [
    "## Data Loading & Quick EDA\r\n",
    "\r\n",
    "- Load `Iris.csv`, drop the `Id` column.  \r\n",
    "- Check shape, dtypes, missing values; quick preview of rows.  \r\n",
    "- Iris has **150 rows**, **4 numeric features**, **3 balanced classes**, **no missing values**.\r\n"
   ]
  },
  {
   "cell_type": "code",
   "execution_count": 127,
   "id": "adb89c26-9450-4971-880d-8deaa8485f7d",
   "metadata": {},
   "outputs": [
    {
     "data": {
      "text/html": [
       "<div>\n",
       "<style scoped>\n",
       "    .dataframe tbody tr th:only-of-type {\n",
       "        vertical-align: middle;\n",
       "    }\n",
       "\n",
       "    .dataframe tbody tr th {\n",
       "        vertical-align: top;\n",
       "    }\n",
       "\n",
       "    .dataframe thead th {\n",
       "        text-align: right;\n",
       "    }\n",
       "</style>\n",
       "<table border=\"1\" class=\"dataframe\">\n",
       "  <thead>\n",
       "    <tr style=\"text-align: right;\">\n",
       "      <th></th>\n",
       "      <th>Id</th>\n",
       "      <th>SepalLengthCm</th>\n",
       "      <th>SepalWidthCm</th>\n",
       "      <th>PetalLengthCm</th>\n",
       "      <th>PetalWidthCm</th>\n",
       "      <th>Species</th>\n",
       "    </tr>\n",
       "  </thead>\n",
       "  <tbody>\n",
       "    <tr>\n",
       "      <th>0</th>\n",
       "      <td>1</td>\n",
       "      <td>5.1</td>\n",
       "      <td>3.5</td>\n",
       "      <td>1.4</td>\n",
       "      <td>0.2</td>\n",
       "      <td>Iris-setosa</td>\n",
       "    </tr>\n",
       "    <tr>\n",
       "      <th>1</th>\n",
       "      <td>2</td>\n",
       "      <td>4.9</td>\n",
       "      <td>3.0</td>\n",
       "      <td>1.4</td>\n",
       "      <td>0.2</td>\n",
       "      <td>Iris-setosa</td>\n",
       "    </tr>\n",
       "    <tr>\n",
       "      <th>2</th>\n",
       "      <td>3</td>\n",
       "      <td>4.7</td>\n",
       "      <td>3.2</td>\n",
       "      <td>1.3</td>\n",
       "      <td>0.2</td>\n",
       "      <td>Iris-setosa</td>\n",
       "    </tr>\n",
       "    <tr>\n",
       "      <th>3</th>\n",
       "      <td>4</td>\n",
       "      <td>4.6</td>\n",
       "      <td>3.1</td>\n",
       "      <td>1.5</td>\n",
       "      <td>0.2</td>\n",
       "      <td>Iris-setosa</td>\n",
       "    </tr>\n",
       "    <tr>\n",
       "      <th>4</th>\n",
       "      <td>5</td>\n",
       "      <td>5.0</td>\n",
       "      <td>3.6</td>\n",
       "      <td>1.4</td>\n",
       "      <td>0.2</td>\n",
       "      <td>Iris-setosa</td>\n",
       "    </tr>\n",
       "    <tr>\n",
       "      <th>5</th>\n",
       "      <td>6</td>\n",
       "      <td>5.4</td>\n",
       "      <td>3.9</td>\n",
       "      <td>1.7</td>\n",
       "      <td>0.4</td>\n",
       "      <td>Iris-setosa</td>\n",
       "    </tr>\n",
       "    <tr>\n",
       "      <th>6</th>\n",
       "      <td>7</td>\n",
       "      <td>4.6</td>\n",
       "      <td>3.4</td>\n",
       "      <td>1.4</td>\n",
       "      <td>0.3</td>\n",
       "      <td>Iris-setosa</td>\n",
       "    </tr>\n",
       "    <tr>\n",
       "      <th>7</th>\n",
       "      <td>8</td>\n",
       "      <td>5.0</td>\n",
       "      <td>3.4</td>\n",
       "      <td>1.5</td>\n",
       "      <td>0.2</td>\n",
       "      <td>Iris-setosa</td>\n",
       "    </tr>\n",
       "    <tr>\n",
       "      <th>8</th>\n",
       "      <td>9</td>\n",
       "      <td>4.4</td>\n",
       "      <td>2.9</td>\n",
       "      <td>1.4</td>\n",
       "      <td>0.2</td>\n",
       "      <td>Iris-setosa</td>\n",
       "    </tr>\n",
       "    <tr>\n",
       "      <th>9</th>\n",
       "      <td>10</td>\n",
       "      <td>4.9</td>\n",
       "      <td>3.1</td>\n",
       "      <td>1.5</td>\n",
       "      <td>0.1</td>\n",
       "      <td>Iris-setosa</td>\n",
       "    </tr>\n",
       "  </tbody>\n",
       "</table>\n",
       "</div>"
      ],
      "text/plain": [
       "   Id  SepalLengthCm  SepalWidthCm  PetalLengthCm  PetalWidthCm      Species\n",
       "0   1            5.1           3.5            1.4           0.2  Iris-setosa\n",
       "1   2            4.9           3.0            1.4           0.2  Iris-setosa\n",
       "2   3            4.7           3.2            1.3           0.2  Iris-setosa\n",
       "3   4            4.6           3.1            1.5           0.2  Iris-setosa\n",
       "4   5            5.0           3.6            1.4           0.2  Iris-setosa\n",
       "5   6            5.4           3.9            1.7           0.4  Iris-setosa\n",
       "6   7            4.6           3.4            1.4           0.3  Iris-setosa\n",
       "7   8            5.0           3.4            1.5           0.2  Iris-setosa\n",
       "8   9            4.4           2.9            1.4           0.2  Iris-setosa\n",
       "9  10            4.9           3.1            1.5           0.1  Iris-setosa"
      ]
     },
     "execution_count": 127,
     "metadata": {},
     "output_type": "execute_result"
    }
   ],
   "source": [
    "# read the file into a pandas dataframe\n",
    "iris_df = pd.read_csv(r\"C:\\Users\\User\\Downloads\\Iris.csv\")\n",
    "iris_df.head(10)"
   ]
  },
  {
   "cell_type": "code",
   "execution_count": 128,
   "id": "945c41fb-1f2c-425f-b49d-f2950667a2d0",
   "metadata": {},
   "outputs": [
    {
     "name": "stdout",
     "output_type": "stream",
     "text": [
      "(150, 6)\n",
      "<class 'pandas.core.frame.DataFrame'>\n",
      "RangeIndex: 150 entries, 0 to 149\n",
      "Data columns (total 6 columns):\n",
      " #   Column         Non-Null Count  Dtype  \n",
      "---  ------         --------------  -----  \n",
      " 0   Id             150 non-null    int64  \n",
      " 1   SepalLengthCm  150 non-null    float64\n",
      " 2   SepalWidthCm   150 non-null    float64\n",
      " 3   PetalLengthCm  150 non-null    float64\n",
      " 4   PetalWidthCm   150 non-null    float64\n",
      " 5   Species        150 non-null    object \n",
      "dtypes: float64(4), int64(1), object(1)\n",
      "memory usage: 7.2+ KB\n"
     ]
    },
    {
     "data": {
      "text/plain": [
       "Id               0\n",
       "SepalLengthCm    0\n",
       "SepalWidthCm     0\n",
       "PetalLengthCm    0\n",
       "PetalWidthCm     0\n",
       "Species          0\n",
       "dtype: int64"
      ]
     },
     "execution_count": 128,
     "metadata": {},
     "output_type": "execute_result"
    }
   ],
   "source": [
    "#Checking for missing values\n",
    "print(iris_df.shape)\n",
    "iris_df.info()\n",
    "iris_df.isnull().sum()"
   ]
  },
  {
   "cell_type": "code",
   "execution_count": 129,
   "id": "176a2499-e1ce-4e0b-aed3-e0f3649cc7a0",
   "metadata": {},
   "outputs": [
    {
     "data": {
      "text/html": [
       "<div>\n",
       "<style scoped>\n",
       "    .dataframe tbody tr th:only-of-type {\n",
       "        vertical-align: middle;\n",
       "    }\n",
       "\n",
       "    .dataframe tbody tr th {\n",
       "        vertical-align: top;\n",
       "    }\n",
       "\n",
       "    .dataframe thead th {\n",
       "        text-align: right;\n",
       "    }\n",
       "</style>\n",
       "<table border=\"1\" class=\"dataframe\">\n",
       "  <thead>\n",
       "    <tr style=\"text-align: right;\">\n",
       "      <th></th>\n",
       "      <th>Id</th>\n",
       "      <th>SepalLengthCm</th>\n",
       "      <th>SepalWidthCm</th>\n",
       "      <th>PetalLengthCm</th>\n",
       "      <th>PetalWidthCm</th>\n",
       "    </tr>\n",
       "  </thead>\n",
       "  <tbody>\n",
       "    <tr>\n",
       "      <th>count</th>\n",
       "      <td>150.000000</td>\n",
       "      <td>150.000000</td>\n",
       "      <td>150.000000</td>\n",
       "      <td>150.000000</td>\n",
       "      <td>150.000000</td>\n",
       "    </tr>\n",
       "    <tr>\n",
       "      <th>mean</th>\n",
       "      <td>75.500000</td>\n",
       "      <td>5.843333</td>\n",
       "      <td>3.054000</td>\n",
       "      <td>3.758667</td>\n",
       "      <td>1.198667</td>\n",
       "    </tr>\n",
       "    <tr>\n",
       "      <th>std</th>\n",
       "      <td>43.445368</td>\n",
       "      <td>0.828066</td>\n",
       "      <td>0.433594</td>\n",
       "      <td>1.764420</td>\n",
       "      <td>0.763161</td>\n",
       "    </tr>\n",
       "    <tr>\n",
       "      <th>min</th>\n",
       "      <td>1.000000</td>\n",
       "      <td>4.300000</td>\n",
       "      <td>2.000000</td>\n",
       "      <td>1.000000</td>\n",
       "      <td>0.100000</td>\n",
       "    </tr>\n",
       "    <tr>\n",
       "      <th>25%</th>\n",
       "      <td>38.250000</td>\n",
       "      <td>5.100000</td>\n",
       "      <td>2.800000</td>\n",
       "      <td>1.600000</td>\n",
       "      <td>0.300000</td>\n",
       "    </tr>\n",
       "    <tr>\n",
       "      <th>50%</th>\n",
       "      <td>75.500000</td>\n",
       "      <td>5.800000</td>\n",
       "      <td>3.000000</td>\n",
       "      <td>4.350000</td>\n",
       "      <td>1.300000</td>\n",
       "    </tr>\n",
       "    <tr>\n",
       "      <th>75%</th>\n",
       "      <td>112.750000</td>\n",
       "      <td>6.400000</td>\n",
       "      <td>3.300000</td>\n",
       "      <td>5.100000</td>\n",
       "      <td>1.800000</td>\n",
       "    </tr>\n",
       "    <tr>\n",
       "      <th>max</th>\n",
       "      <td>150.000000</td>\n",
       "      <td>7.900000</td>\n",
       "      <td>4.400000</td>\n",
       "      <td>6.900000</td>\n",
       "      <td>2.500000</td>\n",
       "    </tr>\n",
       "  </tbody>\n",
       "</table>\n",
       "</div>"
      ],
      "text/plain": [
       "               Id  SepalLengthCm  SepalWidthCm  PetalLengthCm  PetalWidthCm\n",
       "count  150.000000     150.000000    150.000000     150.000000    150.000000\n",
       "mean    75.500000       5.843333      3.054000       3.758667      1.198667\n",
       "std     43.445368       0.828066      0.433594       1.764420      0.763161\n",
       "min      1.000000       4.300000      2.000000       1.000000      0.100000\n",
       "25%     38.250000       5.100000      2.800000       1.600000      0.300000\n",
       "50%     75.500000       5.800000      3.000000       4.350000      1.300000\n",
       "75%    112.750000       6.400000      3.300000       5.100000      1.800000\n",
       "max    150.000000       7.900000      4.400000       6.900000      2.500000"
      ]
     },
     "execution_count": 129,
     "metadata": {},
     "output_type": "execute_result"
    }
   ],
   "source": [
    "iris_df.describe()"
   ]
  },
  {
   "cell_type": "code",
   "execution_count": 130,
   "id": "660b9b50-e8c4-41eb-8504-d6bcd938357e",
   "metadata": {},
   "outputs": [
    {
     "data": {
      "text/html": [
       "<div>\n",
       "<style scoped>\n",
       "    .dataframe tbody tr th:only-of-type {\n",
       "        vertical-align: middle;\n",
       "    }\n",
       "\n",
       "    .dataframe tbody tr th {\n",
       "        vertical-align: top;\n",
       "    }\n",
       "\n",
       "    .dataframe thead th {\n",
       "        text-align: right;\n",
       "    }\n",
       "</style>\n",
       "<table border=\"1\" class=\"dataframe\">\n",
       "  <thead>\n",
       "    <tr style=\"text-align: right;\">\n",
       "      <th></th>\n",
       "      <th>SepalLengthCm</th>\n",
       "      <th>SepalWidthCm</th>\n",
       "      <th>PetalLengthCm</th>\n",
       "      <th>PetalWidthCm</th>\n",
       "      <th>Species</th>\n",
       "    </tr>\n",
       "  </thead>\n",
       "  <tbody>\n",
       "    <tr>\n",
       "      <th>0</th>\n",
       "      <td>5.1</td>\n",
       "      <td>3.5</td>\n",
       "      <td>1.4</td>\n",
       "      <td>0.2</td>\n",
       "      <td>Iris-setosa</td>\n",
       "    </tr>\n",
       "    <tr>\n",
       "      <th>1</th>\n",
       "      <td>4.9</td>\n",
       "      <td>3.0</td>\n",
       "      <td>1.4</td>\n",
       "      <td>0.2</td>\n",
       "      <td>Iris-setosa</td>\n",
       "    </tr>\n",
       "    <tr>\n",
       "      <th>2</th>\n",
       "      <td>4.7</td>\n",
       "      <td>3.2</td>\n",
       "      <td>1.3</td>\n",
       "      <td>0.2</td>\n",
       "      <td>Iris-setosa</td>\n",
       "    </tr>\n",
       "    <tr>\n",
       "      <th>3</th>\n",
       "      <td>4.6</td>\n",
       "      <td>3.1</td>\n",
       "      <td>1.5</td>\n",
       "      <td>0.2</td>\n",
       "      <td>Iris-setosa</td>\n",
       "    </tr>\n",
       "    <tr>\n",
       "      <th>4</th>\n",
       "      <td>5.0</td>\n",
       "      <td>3.6</td>\n",
       "      <td>1.4</td>\n",
       "      <td>0.2</td>\n",
       "      <td>Iris-setosa</td>\n",
       "    </tr>\n",
       "  </tbody>\n",
       "</table>\n",
       "</div>"
      ],
      "text/plain": [
       "   SepalLengthCm  SepalWidthCm  PetalLengthCm  PetalWidthCm      Species\n",
       "0            5.1           3.5            1.4           0.2  Iris-setosa\n",
       "1            4.9           3.0            1.4           0.2  Iris-setosa\n",
       "2            4.7           3.2            1.3           0.2  Iris-setosa\n",
       "3            4.6           3.1            1.5           0.2  Iris-setosa\n",
       "4            5.0           3.6            1.4           0.2  Iris-setosa"
      ]
     },
     "execution_count": 130,
     "metadata": {},
     "output_type": "execute_result"
    }
   ],
   "source": [
    "iris_df = iris_df.drop('Id', axis=1) # remove non-predictive Id column\n",
    "\n",
    "iris_df.head()\n"
   ]
  },
  {
   "cell_type": "code",
   "execution_count": 131,
   "id": "f1cdc39d-da3b-4ed3-aa7e-614530539c01",
   "metadata": {},
   "outputs": [],
   "source": [
    "df = iris_df.copy()\n",
    "feature_cols = ['SepalLengthCm','SepalWidthCm','PetalLengthCm','PetalWidthCm']\n",
    "target_col   = 'Species'\n"
   ]
  },
  {
   "cell_type": "markdown",
   "id": "3a4d2495-c32d-4e8f-8138-027a69080d30",
   "metadata": {},
   "source": [
    "## K Nearest Neighbors (KNN)\r\n",
    "\r\n",
    "**Idea:** classify a point by the **majority label of its k nearest neighbors**.  \r\n",
    "**Steps:** loop k = 1…15 on the same train/test split, pick the best k by test accuracy.  \r\n",
    "**Expectation:** setosa is perfectly separated; small confusion between versicolor & virginica.\r\n"
   ]
  },
  {
   "cell_type": "code",
   "execution_count": 132,
   "id": "ca89bb8f-e0ad-459d-b6fb-76758c930926",
   "metadata": {},
   "outputs": [],
   "source": [
    "def plot_dataset(train_data, test_data, predict_data, title):\n",
    "    fig, ax = plt.subplots()\n",
    "\n",
    "    # train (filled)\n",
    "    for sp, mk, col in [('Iris-setosa','o','C2'),\n",
    "                        ('Iris-versicolor','D','C1'),\n",
    "                        ('Iris-virginica','^','C0')]:\n",
    "        subset = train_data.loc[train_data[target_col] == sp]\n",
    "        ax.scatter(subset['PetalLengthCm'], subset['PetalWidthCm'],\n",
    "                   marker=mk, label=sp if len(subset)>0 else None, color=col)\n",
    "\n",
    "    # test (hollow)\n",
    "    for sp, mk, col in [('Iris-setosa','o','C2'),\n",
    "                        ('Iris-versicolor','D','C1'),\n",
    "                        ('Iris-virginica','^','C0')]:\n",
    "        subset = test_data.loc[test_data[target_col] == sp]\n",
    "        ax.scatter(subset['PetalLengthCm'], subset['PetalWidthCm'],\n",
    "                   marker=mk, label=None, edgecolors=col, facecolors='none')\n",
    "\n",
    "    # predict (*)\n",
    "    ax.scatter(predict_data['PetalLengthCm'], predict_data['PetalWidthCm'],\n",
    "               marker='*', color='black', s=150, label='Predict')\n",
    "\n",
    "    ax.set_xlabel('PetalLengthCm'); ax.set_ylabel('PetalWidthCm')\n",
    "    ax.set_title(title); ax.legend(); plt.show()\n"
   ]
  },
  {
   "cell_type": "markdown",
   "id": "d8f8e03b-7ecb-4bdf-a429-00b22fee689b",
   "metadata": {},
   "source": [
    "## Train/Test Split & Scaling\n",
    "\n",
    "- `train_test_split(test_size=0.40, random_state=26, stratify=Species)`  \n",
    "- **StandardScaler**: **fit on X_train only**, then transform X_train, X_test, and any new points.  \n",
    "- Reason: KNN uses distances; scaling keeps features comparable and avoids traintest leakage.\n"
   ]
  },
  {
   "cell_type": "code",
   "execution_count": 133,
   "id": "27285df1-8034-4e01-96c1-c3d0c9f12231",
   "metadata": {},
   "outputs": [
    {
     "data": {
      "text/plain": [
       "((90, 5), (60, 5))"
      ]
     },
     "execution_count": 133,
     "metadata": {},
     "output_type": "execute_result"
    }
   ],
   "source": [
    "# Split (60/40, stratified by species) for a fair, repeatable comparison\n",
    "train_df, test_df = train_test_split(\n",
    "    df, test_size=0.40, random_state=26, stratify=df[target_col]\n",
    ")\n",
    "train_df.shape, test_df.shape\n"
   ]
  },
  {
   "cell_type": "code",
   "execution_count": 134,
   "id": "00201501-2545-43ec-8156-6a73dbde0578",
   "metadata": {},
   "outputs": [],
   "source": [
    "# Testing with unseen data\n",
    "predict_df = pd.DataFrame([\n",
    "    {'SepalLengthCm':5.1, 'SepalWidthCm':3.5, 'PetalLengthCm':1.4, 'PetalWidthCm':0.2}, \n",
    "    {'SepalLengthCm':6.0, 'SepalWidthCm':2.9, 'PetalLengthCm':4.5, 'PetalWidthCm':1.5},\n",
    "    {'SepalLengthCm':6.5, 'SepalWidthCm':3.0, 'PetalLengthCm':5.5, 'PetalWidthCm':2.0}, \n",
    "])\n"
   ]
  },
  {
   "cell_type": "code",
   "execution_count": 135,
   "id": "47582118-165c-4c5c-a871-86f89779d0b8",
   "metadata": {},
   "outputs": [
    {
     "data": {
      "image/png": "[encoded data removed]",
      "text/plain": [
       "<Figure size 640x480 with 1 Axes>"
      ]
     },
     "metadata": {},
     "output_type": "display_data"
    }
   ],
   "source": [
    "plot_dataset(train_df, test_df, predict_df, 'Train and Test (filled=Train)')\n"
   ]
  },
  {
   "cell_type": "code",
   "execution_count": 136,
   "id": "b16a2bfa-663d-49e0-8757-7ca14a379a0e",
   "metadata": {},
   "outputs": [],
   "source": [
    "# Fit scaler on TRAIN only to avoid data leakage; then transform train/test/predict\n",
    "scaler = StandardScaler()\n",
    "scaler.fit(train_df[feature_cols])\n",
    "\n",
    "# full scaled + keep target\n",
    "df_scaled = pd.concat([\n",
    "    pd.DataFrame(scaler.transform(df[feature_cols]), columns=feature_cols, index=df.index),\n",
    "    df[[target_col]]\n",
    "], axis=1)\n",
    "\n",
    "train_scaled = df_scaled.loc[train_df.index]\n",
    "test_scaled  = df_scaled.loc[test_df.index]\n",
    "predict_scaled = pd.DataFrame(scaler.transform(predict_df[feature_cols]),\n",
    "                              columns=feature_cols)\n"
   ]
  },
  {
   "cell_type": "code",
   "execution_count": 137,
   "id": "2ba440c2-05a6-4a01-8c52-9a3cc7a1cd5b",
   "metadata": {},
   "outputs": [
    {
     "data": {
      "image/png": "[encoded data removed]",
      "text/plain": [
       "<Figure size 640x480 with 1 Axes>"
      ]
     },
     "metadata": {},
     "output_type": "display_data"
    }
   ],
   "source": [
    "plot_dataset(train_scaled, test_scaled, predict_scaled.assign(Species='Predict'),\n",
    "             'Normalized Train/Test (filled=Train)')\n"
   ]
  },
  {
   "cell_type": "code",
   "execution_count": 138,
   "id": "0acc451f-5856-4bbc-a382-7ddb137f2871",
   "metadata": {},
   "outputs": [
    {
     "data": {
      "text/html": [
       "<div>\n",
       "<style scoped>\n",
       "    .dataframe tbody tr th:only-of-type {\n",
       "        vertical-align: middle;\n",
       "    }\n",
       "\n",
       "    .dataframe tbody tr th {\n",
       "        vertical-align: top;\n",
       "    }\n",
       "\n",
       "    .dataframe thead th {\n",
       "        text-align: right;\n",
       "    }\n",
       "</style>\n",
       "<table border=\"1\" class=\"dataframe\">\n",
       "  <thead>\n",
       "    <tr style=\"text-align: right;\">\n",
       "      <th></th>\n",
       "      <th>k</th>\n",
       "      <th>accuracy</th>\n",
       "    </tr>\n",
       "  </thead>\n",
       "  <tbody>\n",
       "    <tr>\n",
       "      <th>0</th>\n",
       "      <td>1</td>\n",
       "      <td>0.950000</td>\n",
       "    </tr>\n",
       "    <tr>\n",
       "      <th>1</th>\n",
       "      <td>2</td>\n",
       "      <td>0.883333</td>\n",
       "    </tr>\n",
       "    <tr>\n",
       "      <th>2</th>\n",
       "      <td>3</td>\n",
       "      <td>0.916667</td>\n",
       "    </tr>\n",
       "    <tr>\n",
       "      <th>3</th>\n",
       "      <td>4</td>\n",
       "      <td>0.916667</td>\n",
       "    </tr>\n",
       "    <tr>\n",
       "      <th>4</th>\n",
       "      <td>5</td>\n",
       "      <td>0.950000</td>\n",
       "    </tr>\n",
       "    <tr>\n",
       "      <th>5</th>\n",
       "      <td>6</td>\n",
       "      <td>0.933333</td>\n",
       "    </tr>\n",
       "    <tr>\n",
       "      <th>6</th>\n",
       "      <td>7</td>\n",
       "      <td>0.950000</td>\n",
       "    </tr>\n",
       "    <tr>\n",
       "      <th>7</th>\n",
       "      <td>8</td>\n",
       "      <td>0.950000</td>\n",
       "    </tr>\n",
       "    <tr>\n",
       "      <th>8</th>\n",
       "      <td>9</td>\n",
       "      <td>0.950000</td>\n",
       "    </tr>\n",
       "    <tr>\n",
       "      <th>9</th>\n",
       "      <td>10</td>\n",
       "      <td>0.950000</td>\n",
       "    </tr>\n",
       "    <tr>\n",
       "      <th>10</th>\n",
       "      <td>11</td>\n",
       "      <td>0.950000</td>\n",
       "    </tr>\n",
       "    <tr>\n",
       "      <th>11</th>\n",
       "      <td>12</td>\n",
       "      <td>0.950000</td>\n",
       "    </tr>\n",
       "    <tr>\n",
       "      <th>12</th>\n",
       "      <td>13</td>\n",
       "      <td>0.950000</td>\n",
       "    </tr>\n",
       "    <tr>\n",
       "      <th>13</th>\n",
       "      <td>14</td>\n",
       "      <td>0.933333</td>\n",
       "    </tr>\n",
       "    <tr>\n",
       "      <th>14</th>\n",
       "      <td>15</td>\n",
       "      <td>0.933333</td>\n",
       "    </tr>\n",
       "  </tbody>\n",
       "</table>\n",
       "</div>"
      ],
      "text/plain": [
       "     k  accuracy\n",
       "0    1  0.950000\n",
       "1    2  0.883333\n",
       "2    3  0.916667\n",
       "3    4  0.916667\n",
       "4    5  0.950000\n",
       "5    6  0.933333\n",
       "6    7  0.950000\n",
       "7    8  0.950000\n",
       "8    9  0.950000\n",
       "9   10  0.950000\n",
       "10  11  0.950000\n",
       "11  12  0.950000\n",
       "12  13  0.950000\n",
       "13  14  0.933333\n",
       "14  15  0.933333"
      ]
     },
     "execution_count": 138,
     "metadata": {},
     "output_type": "execute_result"
    }
   ],
   "source": [
    "# KNN: try k=1..15 on TRAIN, evaluate on TEST; pick best k by test accuracy\n",
    "Xtr, ytr = train_scaled[feature_cols], train_scaled[target_col]\n",
    "Xte, yte = test_scaled[feature_cols],  test_scaled[target_col]\n",
    "\n",
    "rows = []\n",
    "for k in range(1, 16):\n",
    "    knn = KNeighborsClassifier(n_neighbors=k).fit(Xtr, ytr)\n",
    "    acc = accuracy_score(yte, knn.predict(Xte))\n",
    "    rows.append({'k': k, 'accuracy': acc})\n",
    "\n",
    "results = pd.DataFrame(rows)\n",
    "results\n"
   ]
  },
  {
   "cell_type": "code",
   "execution_count": 139,
   "id": "1405efb6-3c48-42d4-8d72-03c5398aee8c",
   "metadata": {},
   "outputs": [
    {
     "data": {
      "text/plain": [
       "1"
      ]
     },
     "execution_count": 139,
     "metadata": {},
     "output_type": "execute_result"
    }
   ],
   "source": [
    "best_k = int(results.loc[results['accuracy'].idxmax(), 'k'])\n",
    "best_k\n"
   ]
  },
  {
   "cell_type": "code",
   "execution_count": 140,
   "id": "4519e8f7-06af-4839-abe2-4a22f5a69b59",
   "metadata": {},
   "outputs": [
    {
     "name": "stdout",
     "output_type": "stream",
     "text": [
      "----------------------------------------------------------------\n",
      "Predicted: Iris-setosa\n",
      "New point: SepalLengthCm    5.1\n",
      "SepalWidthCm     3.5\n",
      "PetalLengthCm    1.4\n",
      "PetalWidthCm     0.2\n",
      "Name: 0, dtype: float64\n",
      "\n",
      "Nearest neighbors (original units):\n",
      "   SepalLengthCm  SepalWidthCm  PetalLengthCm  PetalWidthCm      Species\n",
      "0            5.1           3.5            1.4           0.2  Iris-setosa\n",
      "\n",
      "Nearest neighbors (scaled):\n",
      "   SepalLengthCm  SepalWidthCm  PetalLengthCm  PetalWidthCm      Species\n",
      "0      -0.904935      1.088035      -1.312174     -1.301965  Iris-setosa\n",
      "----------------------------------------------------------------\n",
      "Predicted: Iris-versicolor\n",
      "New point: SepalLengthCm    6.0\n",
      "SepalWidthCm     2.9\n",
      "PetalLengthCm    4.5\n",
      "PetalWidthCm     1.5\n",
      "Name: 1, dtype: float64\n",
      "\n",
      "Nearest neighbors (original units):\n",
      "    SepalLengthCm  SepalWidthCm  PetalLengthCm  PetalWidthCm          Species\n",
      "78            6.0           2.9            4.5           1.5  Iris-versicolor\n",
      "\n",
      "Nearest neighbors (scaled):\n",
      "    SepalLengthCm  SepalWidthCm  PetalLengthCm  PetalWidthCm          Species\n",
      "78       0.118804     -0.352011       0.382718      0.373832  Iris-versicolor\n",
      "----------------------------------------------------------------\n",
      "Predicted: Iris-virginica\n",
      "New point: SepalLengthCm    6.5\n",
      "SepalWidthCm     3.0\n",
      "PetalLengthCm    5.5\n",
      "PetalWidthCm     2.0\n",
      "Name: 2, dtype: float64\n",
      "\n",
      "Nearest neighbors (original units):\n",
      "     SepalLengthCm  SepalWidthCm  PetalLengthCm  PetalWidthCm         Species\n",
      "147            6.5           3.0            5.2           2.0  Iris-virginica\n",
      "\n",
      "Nearest neighbors (scaled):\n",
      "     SepalLengthCm  SepalWidthCm  PetalLengthCm  PetalWidthCm         Species\n",
      "147       0.687549     -0.112004       0.765435      1.018369  Iris-virginica\n"
     ]
    }
   ],
   "source": [
    "X_all = df_scaled[feature_cols]\n",
    "y_all = df_scaled[target_col]\n",
    "\n",
    "knn = KNeighborsClassifier(n_neighbors=best_k).fit(X_all, y_all)\n",
    "\n",
    "# neighbors + predictions for new points\n",
    "distances, indices = knn.kneighbors(predict_scaled)\n",
    "preds = knn.predict(predict_scaled)\n",
    "\n",
    "for i, pred in enumerate(preds):\n",
    "    print('-'*64)\n",
    "    print('Predicted:', pred)\n",
    "    print('New point:', predict_df.iloc[i])\n",
    "    print('\\nNearest neighbors (original units):')\n",
    "    print(df.iloc[indices[i], :])\n",
    "    print('\\nNearest neighbors (scaled):')\n",
    "    print(df_scaled.iloc[indices[i], :])\n"
   ]
  },
  {
   "cell_type": "markdown",
   "id": "d2d1f40c-47b3-4f21-88db-e7670ca6bb85",
   "metadata": {},
   "source": [
    "**KNN Result (this run):** Test accuracy ≈ 0.95.  \r\n",
    "Most errors occur on the **versicolor ↔ virginica** boundary; setosa is perfect.\r\n"
   ]
  },
  {
   "cell_type": "markdown",
   "id": "a3d51632-ab3e-431e-b1e6-76e4b254b2e7",
   "metadata": {},
   "source": [
    "## Naive Bayes (GaussianNB)\r\n",
    "\r\n",
    "**Idea:** within each class, each numeric feature is modeled as **Gaussian**; features are conditionally independent given the class.  \r\n",
    "**Why Gaussian (not Multinomial):** Iris features are **continuous** (lengths/widths), not counts/dummies.  \r\n",
    "**Procedure:** fit on train, predict on test; no tuning needed.\r\n"
   ]
  },
  {
   "cell_type": "code",
   "execution_count": 141,
   "id": "20b4a824-f960-41a3-ac4b-818374f30260",
   "metadata": {},
   "outputs": [
    {
     "name": "stdout",
     "output_type": "stream",
     "text": [
      "GaussianNB — Test Accuracy: 0.967\n",
      "\n",
      "                 pred_setosa  pred_versicolor  pred_virginica\n",
      "true_setosa               20                0               0\n",
      "true_versicolor            0               20               0\n",
      "true_virginica             0                2              18\n",
      "\n",
      "Classification Report:\n",
      "                 precision    recall  f1-score   support\n",
      "\n",
      "    Iris-setosa      1.000     1.000     1.000        20\n",
      "Iris-versicolor      0.909     1.000     0.952        20\n",
      " Iris-virginica      1.000     0.900     0.947        20\n",
      "\n",
      "       accuracy                          0.967        60\n",
      "      macro avg      0.970     0.967     0.967        60\n",
      "   weighted avg      0.970     0.967     0.967        60\n",
      "\n"
     ]
    }
   ],
   "source": [
    "# GaussianNB: suitable for continuous features (Iris); fit on TRAIN, evaluate on TEST\n",
    "nb = GaussianNB()\n",
    "nb.fit(Xtr, ytr)\n",
    "\n",
    "# predict on TEST split\n",
    "y_pred_nb = nb.predict(Xte)\n",
    "\n",
    "# metrics\n",
    "acc_nb = accuracy_score(yte, y_pred_nb)\n",
    "cm_nb  = confusion_matrix(yte, y_pred_nb, labels=['Iris-setosa','Iris-versicolor','Iris-virginica'])\n",
    "\n",
    "print(f\"GaussianNB — Test Accuracy: {acc_nb:.3f}\\n\")\n",
    "print(pd.DataFrame(cm_nb,\n",
    "        index=['true_setosa','true_versicolor','true_virginica'],\n",
    "        columns=['pred_setosa','pred_versicolor','pred_virginica']))\n",
    "print(\"\\nClassification Report:\")\n",
    "print(classification_report(yte, y_pred_nb, digits=3))\n"
   ]
  },
  {
   "cell_type": "code",
   "execution_count": 142,
   "id": "03570dd2-36e6-4724-879f-671045b273a8",
   "metadata": {},
   "outputs": [
    {
     "name": "stdout",
     "output_type": "stream",
     "text": [
      "Point 0: predicted = Iris-setosa,  P(setosa, versicolor, virginica) = [1.00000000e+00 1.41308890e-17 2.03424058e-25]\n",
      "Point 1: predicted = Iris-versicolor,  P(setosa, versicolor, virginica) = [9.09272201e-102 9.93653662e-001 6.34633813e-003]\n",
      "Point 2: predicted = Iris-virginica,  P(setosa, versicolor, virginica) = [6.24385016e-186 2.00299453e-004 9.99799701e-001]\n"
     ]
    }
   ],
   "source": [
    "nb_preds = nb.predict(predict_scaled)\n",
    "nb_proba = nb.predict_proba(predict_scaled)\n",
    "\n",
    "for i, (label, probs) in enumerate(zip(nb_preds, nb_proba)):\n",
    "    print(f\"Point {i}: predicted = {label},  P(setosa, versicolor, virginica) = {probs}\")"
   ]
  },
  {
   "cell_type": "markdown",
   "id": "d5973a26-c042-4e9a-8d85-c9527e1e0246",
   "metadata": {},
   "source": [
    "**GaussianNB Result (this run):** Test accuracy = 0.967.  \r\n",
    "Confusion: setosa 20/20, versicolor 20/20, virginica 18/20 (2 misclassified as versicolor).\r\n"
   ]
  },
  {
   "cell_type": "markdown",
   "id": "3d76a90a-d83b-4b1f-b513-a06fdaa7f58b",
   "metadata": {},
   "source": [
    "## Logistic Regression (Multinomial)\r\n",
    "\r\n",
    "**Idea:** learns **softmax probabilities** with a linear decision boundary across all 3 classes.  \r\n",
    "**Settings:** `multi_class='multinomial'`, `solver='lbfgs'`, `max_iter=1000` (C very large to mirror “no regularization”).  \r\n",
    "**Procedure:** fit on train, predict on test."
   ]
  },
  {
   "cell_type": "code",
   "execution_count": 143,
   "id": "341d68d8-4285-4a59-bf2f-eb113495338c",
   "metadata": {},
   "outputs": [
    {
     "name": "stdout",
     "output_type": "stream",
     "text": [
      "Logistic Regression — Test Accuracy: 0.967\n",
      "\n",
      "                 pred_setosa  pred_versicolor  pred_virginica\n",
      "true_setosa               20                0               0\n",
      "true_versicolor            0               20               0\n",
      "true_virginica             0                2              18\n",
      "\n",
      "Classification Report:\n",
      "                 precision    recall  f1-score   support\n",
      "\n",
      "    Iris-setosa      1.000     1.000     1.000        20\n",
      "Iris-versicolor      0.909     1.000     0.952        20\n",
      " Iris-virginica      1.000     0.900     0.947        20\n",
      "\n",
      "       accuracy                          0.967        60\n",
      "      macro avg      0.970     0.967     0.967        60\n",
      "   weighted avg      0.970     0.967     0.967        60\n",
      "\n"
     ]
    }
   ],
   "source": [
    "# Multinomial logistic regression: fit on TRAIN, evaluate on TEST (same split & scaling)\n",
    "logit = LogisticRegression(\n",
    "    penalty=\"l2\",\n",
    "    C=1e42,             \n",
    "    solver=\"lbfgs\",     \n",
    "    multi_class=\"multinomial\",\n",
    "    max_iter=1000\n",
    ")\n",
    "\n",
    "# fit on TRAIN split\n",
    "logit.fit(Xtr, ytr)\n",
    "\n",
    "# predict on TEST split\n",
    "y_pred_lr = logit.predict(Xte)\n",
    "\n",
    "# metrics (same format as KNN/NB)\n",
    "acc_lr = accuracy_score(yte, y_pred_lr)\n",
    "cm_lr  = confusion_matrix(yte, y_pred_lr,\n",
    "                          labels=['Iris-setosa','Iris-versicolor','Iris-virginica'])\n",
    "\n",
    "print(f\"Logistic Regression — Test Accuracy: {acc_lr:.3f}\\n\")\n",
    "print(pd.DataFrame(cm_lr,\n",
    "        index=['true_setosa','true_versicolor','true_virginica'],\n",
    "        columns=['pred_setosa','pred_versicolor','pred_virginica']))\n",
    "print(\"\\nClassification Report:\")\n",
    "print(classification_report(yte, y_pred_lr, digits=3))\n"
   ]
  },
  {
   "cell_type": "code",
   "execution_count": 144,
   "id": "4882b4bf-90e2-4fdc-ab92-c22f9f95b569",
   "metadata": {},
   "outputs": [
    {
     "name": "stdout",
     "output_type": "stream",
     "text": [
      "Point 0: predicted = Iris-setosa,  P(setosa, versicolor, virginica) = [1.00000000e+00 2.65133936e-23 9.15217316e-46]\n",
      "Point 1: predicted = Iris-versicolor,  P(setosa, versicolor, virginica) = [1.36359363e-14 9.98026477e-01 1.97352307e-03]\n",
      "Point 2: predicted = Iris-virginica,  P(setosa, versicolor, virginica) = [2.15243442e-27 3.60196152e-04 9.99639804e-01]\n"
     ]
    }
   ],
   "source": [
    "proba_lr = logit.predict_proba(predict_scaled)\n",
    "for i, (label, probs) in enumerate(zip(logit.predict(predict_scaled), proba_lr)):\n",
    "    print(f\"Point {i}: predicted = {label},  P(setosa, versicolor, virginica) = {probs}\")\n"
   ]
  },
  {
   "cell_type": "markdown",
   "id": "ec43a6f5-1bf0-4bf5-ab5d-e0c007253dc1",
   "metadata": {},
   "source": [
    "\r\n",
    "**Logistic Regression Result (this run):** Test accuracy = 0.967.  \r\n",
    "Same pattern as NB: a couple of **virginica** near the boundary.\r\n"
   ]
  },
  {
   "cell_type": "markdown",
   "id": "4eda4a1a-8a92-49d9-bc29-c782e641b3c3",
   "metadata": {},
   "source": [
    "## Conclusion - Ranking (Best to Worst)\r\n",
    "\r\n",
    "1) **Logistic Regression** = **Gaussian Naive Bayes** *(tie, ~0.967)*  \r\n",
    "2) **KNN** *(~0.95)*\r\n",
    "\r\n",
    "**Why:** LR and GaussianNB learn **smooth global boundaries** that match Iris structure; both classify **setosa** perfectly and only miss a couple of **virginica** near the **versicolor** border.  \r\n",
    "KNN is strong but **depends on local neighbors**; borderline points can flip with nearby samples, so it makes a few more boundary errors.  \r\n",
    "All models used the **same stratified split** and **scaler fit on train only** for a fair comparison.\r\n",
    "\r\n"
   ]
  },
  {
   "cell_type": "code",
   "execution_count": null,
   "id": "48e1b408-2263-4ddd-b952-2312485f04fd",
   "metadata": {},
   "outputs": [],
   "source": []
  }
 ],
 "metadata": {
  "kernelspec": {
   "display_name": "Python 3 (ipykernel)",
   "language": "python",
   "name": "python3"
  },
  "language_info": {
   "codemirror_mode": {
    "name": "ipython",
    "version": 3
   },
   "file_extension": ".py",
   "mimetype": "text/x-python",
   "name": "python",
   "nbconvert_exporter": "python",
   "pygments_lexer": "ipython3",
   "version": "3.11.7"
  }
 },
 "nbformat": 4,
 "nbformat_minor": 5
}
